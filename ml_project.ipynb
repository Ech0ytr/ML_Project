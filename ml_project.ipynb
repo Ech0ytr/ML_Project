{
 "cells": [
  {
   "cell_type": "code",
   "execution_count": 1,
   "metadata": {},
   "outputs": [],
   "source": [
    "import pandas as pd"
   ]
  },
  {
   "cell_type": "code",
   "execution_count": 20,
   "metadata": {},
   "outputs": [
    {
     "name": "stderr",
     "output_type": "stream",
     "text": [
      "/var/folders/k5/xxybcm6j2yb_1bs98355vh4c0000gn/T/ipykernel_9539/2390494358.py:3: DtypeWarning: Columns (24,25,28,32,45) have mixed types. Specify dtype option on import or set low_memory=False.\n",
      "  companies =  pd.read_csv(\"anonymized_hubspot_companies.csv\")\n"
     ]
    }
   ],
   "source": [
    "# Load datasets\n",
    "deals = pd.read_csv(\"anonymized_hubspot_deals.csv\")\n",
    "companies =  pd.read_csv(\"anonymized_hubspot_companies.csv\")\n",
    "tickets = pd.read_csv(\"anonymized_hubspot_tickets.csv\")"
   ]
  },
  {
   "cell_type": "code",
   "execution_count": 21,
   "metadata": {},
   "outputs": [
    {
     "name": "stdout",
     "output_type": "stream",
     "text": [
      "<class 'pandas.core.frame.DataFrame'>\n",
      "RangeIndex: 593 entries, 0 to 592\n",
      "Data columns (total 50 columns):\n",
      " #   Column                                                                         Non-Null Count  Dtype  \n",
      "---  ------                                                                         --------------  -----  \n",
      " 0   Weighted amount                                                                573 non-null    float64\n",
      " 1   Deal Description                                                               491 non-null    object \n",
      " 2   Cumulative time in \"BANT Deal. Pain ID'ed (Sales Pipeline)\" (HH:mm:ss)         209 non-null    object \n",
      " 3   Cumulative time in \"Opportunity (Sales Pipeline)\" (HH:mm:ss)                   37 non-null     object \n",
      " 4   Days to close                                                                  593 non-null    float64\n",
      " 5   Deal Score                                                                     167 non-null    float64\n",
      " 6   Close Date                                                                     543 non-null    object \n",
      " 7   Deal source attribution 2                                                      587 non-null    object \n",
      " 8   Cumulative time in \"In Trial - Trial in Progress (Sales Pipeline)\" (HH:mm:ss)  44 non-null     object \n",
      " 9   Contract Start Date                                                            69 non-null     object \n",
      " 10  Cumulative time in \"Partner Referrals  (Sales Pipeline)\" (HH:mm:ss)            48 non-null     object \n",
      " 11  Cumulative time in \"Closed Lost (Sales Pipeline)\" (HH:mm:ss)                   3 non-null      object \n",
      " 12  Cumulative time in \"Deep Dive. PSP Drafted (Sales Pipeline)\" (HH:mm:ss)        42 non-null     object \n",
      " 13  Pipeline                                                                       593 non-null    object \n",
      " 14  Record ID                                                                      593 non-null    int64  \n",
      " 15  Forecast category                                                              593 non-null    object \n",
      " 16  Original Traffic Source                                                        577 non-null    object \n",
      " 17  Associated Company                                                             572 non-null    object \n",
      " 18  Deal owner                                                                     558 non-null    object \n",
      " 19  Annual contract value                                                          1 non-null      float64\n",
      " 20  Is Closed (numeric)                                                            593 non-null    float64\n",
      " 21  Amount in company currency                                                     573 non-null    float64\n",
      " 22  Annual recurring revenue                                                       1 non-null      float64\n",
      " 23  Monthly recurring revenue                                                      1 non-null      float64\n",
      " 24  Deal probability                                                               593 non-null    float64\n",
      " 25  Associated Company (Primary)                                                   572 non-null    object \n",
      " 26  Is Closed Won                                                                  593 non-null    bool   \n",
      " 27  Forecast probability                                                           0 non-null      float64\n",
      " 28  Contract End Date                                                              71 non-null     object \n",
      " 29  Last Activity Date                                                             402 non-null    object \n",
      " 30  Contract Term (Months)                                                         69 non-null     float64\n",
      " 31  Trial Start date                                                               38 non-null     object \n",
      " 32  Is closed lost                                                                 593 non-null    bool   \n",
      " 33  Weighted amount in company currency                                            573 non-null    float64\n",
      " 34  Is Deal Closed?                                                                593 non-null    bool   \n",
      " 35  Trial End Date                                                                 41 non-null     object \n",
      " 36  Deal Name                                                                      593 non-null    object \n",
      " 37  Amount                                                                         573 non-null    float64\n",
      " 38  Cumulative time in \"Closed Trial (Sales Pipeline)\" (HH:mm:ss)                  16 non-null     object \n",
      " 39  Forecast amount                                                                573 non-null    float64\n",
      " 40  Cumulative time in \"Negotiation (Sales Pipeline)\" (HH:mm:ss)                   87 non-null     object \n",
      " 41  Is Open (numeric)                                                              593 non-null    float64\n",
      " 42  Cumulative time in \"Renewals  (Sales Pipeline)\" (HH:mm:ss)                     39 non-null     object \n",
      " 43  Create Date                                                                    593 non-null    object \n",
      " 44  Cumulative time in \"Contract Sent (Sales Pipeline)\" (HH:mm:ss)                 88 non-null     object \n",
      " 45  Total contract value                                                           1 non-null      float64\n",
      " 46  Last Modified Date                                                             593 non-null    object \n",
      " 47  Cumulative time in \"Closed Won (Sales Pipeline)\" (HH:mm:ss)                    13 non-null     object \n",
      " 48  Deal Stage                                                                     593 non-null    object \n",
      " 49  Deal Type                                                                      593 non-null    object \n",
      "dtypes: bool(3), float64(16), int64(1), object(30)\n",
      "memory usage: 219.6+ KB\n"
     ]
    }
   ],
   "source": [
    "# Display deals info\n",
    "deals.info()"
   ]
  },
  {
   "cell_type": "code",
   "execution_count": 15,
   "metadata": {},
   "outputs": [
    {
     "name": "stdout",
     "output_type": "stream",
     "text": [
      "<class 'pandas.core.frame.DataFrame'>\n",
      "RangeIndex: 19851 entries, 0 to 19850\n",
      "Data columns (total 46 columns):\n",
      " #   Column                        Non-Null Count  Dtype  \n",
      "---  ------                        --------------  -----  \n",
      " 0   Parent Company                31 non-null     object \n",
      " 1   CCaaS                         2086 non-null   object \n",
      " 2   Annual Revenue                18341 non-null  float64\n",
      " 3   Target Account                33 non-null     object \n",
      " 4   Associated Contact            17792 non-null  object \n",
      " 5   Number of Form Submissions    17248 non-null  float64\n",
      " 6   Total Agents                  0 non-null      float64\n",
      " 7   Web Technologies              18607 non-null  object \n",
      " 8   Close Date                    71 non-null     object \n",
      " 9   # of Agents Total             42 non-null     float64\n",
      " 10  Number of times contacted     11544 non-null  float64\n",
      " 11  Contact with Primary Company  17248 non-null  object \n",
      " 12  ICP Fit Level                 5983 non-null   object \n",
      " 13  Revenue range                 0 non-null      float64\n",
      " 14  # of Agents Contracted        40 non-null     float64\n",
      " 15  Record ID                     19851 non-null  int64  \n",
      " 16  Time Zone                     18727 non-null  object \n",
      " 17  Primary Industry              11048 non-null  object \n",
      " 18  Number of Pageviews           17248 non-null  float64\n",
      " 19  Primary Company               0 non-null      float64\n",
      " 20  Year Founded                  17849 non-null  float64\n",
      " 21  ICP                           1646 non-null   object \n",
      " 22  Industry group                0 non-null      float64\n",
      " 23  Segmentation                  1819 non-null   object \n",
      " 24  LMS System                    1 non-null      object \n",
      " 25  SymTrain Use Cases            1 non-null      object \n",
      " 26  Associated Company            53 non-null     object \n",
      " 27  BPO                           81 non-null     object \n",
      " 28  SSO Application               1 non-null      object \n",
      " 29  State/Region                  18702 non-null  object \n",
      " 30  SymTrain Product              0 non-null      float64\n",
      " 31  Contract End Date             26 non-null     object \n",
      " 32  SSO Implemented?              3 non-null      object \n",
      " 33  Consolidated Industry         19842 non-null  object \n",
      " 34  Type                          1206 non-null   object \n",
      " 35  Number of Employees           18692 non-null  float64\n",
      " 36  BPO Program                   14 non-null     object \n",
      " 37  Primary Sub-Industry          9011 non-null   object \n",
      " 38  Number of Sessions            17248 non-null  float64\n",
      " 39  WFM                           499 non-null    object \n",
      " 40  Country/Region                19040 non-null  object \n",
      " 41  Industry                      19077 non-null  object \n",
      " 42  Create Date                   19851 non-null  object \n",
      " 43  Company name                  19851 non-null  object \n",
      " 44  Last Modified Date            19851 non-null  object \n",
      " 45  BPO Program Tier              2 non-null      object \n",
      "dtypes: float64(14), int64(1), object(31)\n",
      "memory usage: 7.0+ MB\n"
     ]
    }
   ],
   "source": [
    "# Display companies info\n",
    "companies.info()"
   ]
  },
  {
   "cell_type": "code",
   "execution_count": 14,
   "metadata": {},
   "outputs": [
    {
     "name": "stdout",
     "output_type": "stream",
     "text": [
      "<class 'pandas.core.frame.DataFrame'>\n",
      "RangeIndex: 79 entries, 0 to 78\n",
      "Data columns (total 46 columns):\n",
      " #   Column                                         Non-Null Count  Dtype  \n",
      "---  ------                                         --------------  -----  \n",
      " 0   Create date                                    79 non-null     object \n",
      " 1   Ticket Tags                                    0 non-null      float64\n",
      " 2   Stage Date - Project Launch                    31 non-null     object \n",
      " 3   Associated Contact                             78 non-null     object \n",
      " 4   Category                                       0 non-null      float64\n",
      " 5   Target Launch Date                             29 non-null     object \n",
      " 6   Kickoff Call                                   49 non-null     object \n",
      " 7   Close date                                     55 non-null     object \n",
      " 8   Pipeline                                       79 non-null     object \n",
      " 9   Stage Date - Project Initiation                53 non-null     object \n",
      " 10  Stage Date - Planning Phase                    0 non-null      float64\n",
      " 11  Ticket status                                  79 non-null     object \n",
      " 12  Stage Date - Execution                         37 non-null     object \n",
      " 13  Time to first agent email reply (HH:mm:ss)     56 non-null     object \n",
      " 14  Last CES survey rating                         0 non-null      float64\n",
      " 15  Priority                                       1 non-null      object \n",
      " 16  Associated Company                             79 non-null     object \n",
      " 17  Who will be creating the Syms?                 3 non-null      object \n",
      " 18  Stage Date - Closure Phase                     27 non-null     object \n",
      " 19  Stage Date - Monitoring and Control Phase      0 non-null      float64\n",
      " 20  Associated Company (Primary)                   76 non-null     object \n",
      " 21  Response time (HH:mm:ss)                       56 non-null     object \n",
      " 22  Ticket ID                                      79 non-null     int64  \n",
      " 23  Time to close (HH:mm:ss)                       55 non-null     object \n",
      " 24  Associated Deal                                58 non-null     object \n",
      " 25  Library index approved                         43 non-null     object \n",
      " 26  Training: General Overview                     28 non-null     object \n",
      " 27  Latest Milestone                               20 non-null     object \n",
      " 28  Training: Deployment/User Management Training  26 non-null     object \n",
      " 29  Requirements for the Trial                     49 non-null     object \n",
      " 30  Training: Sym Building 101                     25 non-null     object \n",
      " 31  Last modified date                             79 non-null     object \n",
      " 32  Type                                           1 non-null      object \n",
      " 33  Trial End Date                                 52 non-null     object \n",
      " 34  Training: Sym Building 201                     19 non-null     object \n",
      " 35  Stage Date - Converted Won                     30 non-null     object \n",
      " 36  Latest Milestone Update Date                   20 non-null     object \n",
      " 37  Ticket name                                    79 non-null     object \n",
      " 38  Trial Overview                                 65 non-null     object \n",
      " 39  Trial Start Date                               52 non-null     object \n",
      " 40  1st Syms presented for review                  21 non-null     object \n",
      " 41  Project Launch Day                             34 non-null     object \n",
      " 42  Training: Reporting                            24 non-null     object \n",
      " 43  Construction of 1st Sym begun                  43 non-null     object \n",
      " 44  Trial Required                                 1 non-null      object \n",
      " 45  Was the sym QAed?                              0 non-null      float64\n",
      "dtypes: float64(6), int64(1), object(39)\n",
      "memory usage: 28.5+ KB\n"
     ]
    }
   ],
   "source": [
    "# Display tickets info\n",
    "tickets.info()"
   ]
  },
  {
   "cell_type": "code",
   "execution_count": 22,
   "metadata": {},
   "outputs": [],
   "source": [
    "# Both deals and companies have the same column \"Record ID\", which is record different things respectively in the two tables.\n",
    "# We change the names to clarify before we merge the three tables together.\n",
    "deals.rename(columns={\"Record ID\": \"Record_ID_deals\"}, inplace=True)\n",
    "companies.rename(columns={\"Record ID\": \"Record_ID_companies\"}, inplace=True)"
   ]
  },
  {
   "cell_type": "code",
   "execution_count": 17,
   "metadata": {},
   "outputs": [],
   "source": [
    "# Merge the three tables together\n",
    "deals_companies = pd.merge(\n",
    "    deals,\n",
    "    companies,\n",
    "    left_on=\"Associated Company (Primary)\",  \n",
    "    right_on=\"Company name\",\n",
    "    how=\"left\"\n",
    ")\n"
   ]
  },
  {
   "cell_type": "code",
   "execution_count": 18,
   "metadata": {},
   "outputs": [
    {
     "name": "stdout",
     "output_type": "stream",
     "text": [
      "<class 'pandas.core.frame.DataFrame'>\n",
      "RangeIndex: 593 entries, 0 to 592\n",
      "Data columns (total 96 columns):\n",
      " #   Column                                                                         Non-Null Count  Dtype  \n",
      "---  ------                                                                         --------------  -----  \n",
      " 0   Weighted amount                                                                573 non-null    float64\n",
      " 1   Deal Description                                                               491 non-null    object \n",
      " 2   Cumulative time in \"BANT Deal. Pain ID'ed (Sales Pipeline)\" (HH:mm:ss)         209 non-null    object \n",
      " 3   Cumulative time in \"Opportunity (Sales Pipeline)\" (HH:mm:ss)                   37 non-null     object \n",
      " 4   Days to close                                                                  593 non-null    float64\n",
      " 5   Deal Score                                                                     167 non-null    float64\n",
      " 6   Close Date_x                                                                   543 non-null    object \n",
      " 7   Deal source attribution 2                                                      587 non-null    object \n",
      " 8   Cumulative time in \"In Trial - Trial in Progress (Sales Pipeline)\" (HH:mm:ss)  44 non-null     object \n",
      " 9   Contract Start Date                                                            69 non-null     object \n",
      " 10  Cumulative time in \"Partner Referrals  (Sales Pipeline)\" (HH:mm:ss)            48 non-null     object \n",
      " 11  Cumulative time in \"Closed Lost (Sales Pipeline)\" (HH:mm:ss)                   3 non-null      object \n",
      " 12  Cumulative time in \"Deep Dive. PSP Drafted (Sales Pipeline)\" (HH:mm:ss)        42 non-null     object \n",
      " 13  Pipeline                                                                       593 non-null    object \n",
      " 14  Record_ID_deals                                                                593 non-null    int64  \n",
      " 15  Forecast category                                                              593 non-null    object \n",
      " 16  Original Traffic Source                                                        577 non-null    object \n",
      " 17  Associated Company_x                                                           572 non-null    object \n",
      " 18  Deal owner                                                                     558 non-null    object \n",
      " 19  Annual contract value                                                          1 non-null      float64\n",
      " 20  Is Closed (numeric)                                                            593 non-null    float64\n",
      " 21  Amount in company currency                                                     573 non-null    float64\n",
      " 22  Annual recurring revenue                                                       1 non-null      float64\n",
      " 23  Monthly recurring revenue                                                      1 non-null      float64\n",
      " 24  Deal probability                                                               593 non-null    float64\n",
      " 25  Associated Company (Primary)                                                   572 non-null    object \n",
      " 26  Is Closed Won                                                                  593 non-null    bool   \n",
      " 27  Forecast probability                                                           0 non-null      float64\n",
      " 28  Contract End Date_x                                                            71 non-null     object \n",
      " 29  Last Activity Date                                                             402 non-null    object \n",
      " 30  Contract Term (Months)                                                         69 non-null     float64\n",
      " 31  Trial Start date                                                               38 non-null     object \n",
      " 32  Is closed lost                                                                 593 non-null    bool   \n",
      " 33  Weighted amount in company currency                                            573 non-null    float64\n",
      " 34  Is Deal Closed?                                                                593 non-null    bool   \n",
      " 35  Trial End Date                                                                 41 non-null     object \n",
      " 36  Deal Name                                                                      593 non-null    object \n",
      " 37  Amount                                                                         573 non-null    float64\n",
      " 38  Cumulative time in \"Closed Trial (Sales Pipeline)\" (HH:mm:ss)                  16 non-null     object \n",
      " 39  Forecast amount                                                                573 non-null    float64\n",
      " 40  Cumulative time in \"Negotiation (Sales Pipeline)\" (HH:mm:ss)                   87 non-null     object \n",
      " 41  Is Open (numeric)                                                              593 non-null    float64\n",
      " 42  Cumulative time in \"Renewals  (Sales Pipeline)\" (HH:mm:ss)                     39 non-null     object \n",
      " 43  Create Date_x                                                                  593 non-null    object \n",
      " 44  Cumulative time in \"Contract Sent (Sales Pipeline)\" (HH:mm:ss)                 88 non-null     object \n",
      " 45  Total contract value                                                           1 non-null      float64\n",
      " 46  Last Modified Date_x                                                           593 non-null    object \n",
      " 47  Cumulative time in \"Closed Won (Sales Pipeline)\" (HH:mm:ss)                    13 non-null     object \n",
      " 48  Deal Stage                                                                     593 non-null    object \n",
      " 49  Deal Type                                                                      593 non-null    object \n",
      " 50  Parent Company                                                                 0 non-null      object \n",
      " 51  CCaaS                                                                          0 non-null      object \n",
      " 52  Annual Revenue                                                                 0 non-null      float64\n",
      " 53  Target Account                                                                 0 non-null      object \n",
      " 54  Associated Contact                                                             0 non-null      object \n",
      " 55  Number of Form Submissions                                                     0 non-null      float64\n",
      " 56  Total Agents                                                                   0 non-null      float64\n",
      " 57  Web Technologies                                                               0 non-null      object \n",
      " 58  Close Date_y                                                                   0 non-null      object \n",
      " 59  # of Agents Total                                                              0 non-null      float64\n",
      " 60  Number of times contacted                                                      0 non-null      float64\n",
      " 61  Contact with Primary Company                                                   0 non-null      object \n",
      " 62  ICP Fit Level                                                                  0 non-null      object \n",
      " 63  Revenue range                                                                  0 non-null      float64\n",
      " 64  # of Agents Contracted                                                         0 non-null      float64\n",
      " 65  Record_ID_companies                                                            0 non-null      float64\n",
      " 66  Time Zone                                                                      0 non-null      object \n",
      " 67  Primary Industry                                                               0 non-null      object \n",
      " 68  Number of Pageviews                                                            0 non-null      float64\n",
      " 69  Primary Company                                                                0 non-null      float64\n",
      " 70  Year Founded                                                                   0 non-null      float64\n",
      " 71  ICP                                                                            0 non-null      object \n",
      " 72  Industry group                                                                 0 non-null      float64\n",
      " 73  Segmentation                                                                   0 non-null      object \n",
      " 74  LMS System                                                                     0 non-null      object \n",
      " 75  SymTrain Use Cases                                                             0 non-null      object \n",
      " 76  Associated Company_y                                                           0 non-null      object \n",
      " 77  BPO                                                                            0 non-null      object \n",
      " 78  SSO Application                                                                0 non-null      object \n",
      " 79  State/Region                                                                   0 non-null      object \n",
      " 80  SymTrain Product                                                               0 non-null      float64\n",
      " 81  Contract End Date_y                                                            0 non-null      object \n",
      " 82  SSO Implemented?                                                               0 non-null      object \n",
      " 83  Consolidated Industry                                                          0 non-null      object \n",
      " 84  Type                                                                           0 non-null      object \n",
      " 85  Number of Employees                                                            0 non-null      float64\n",
      " 86  BPO Program                                                                    0 non-null      object \n",
      " 87  Primary Sub-Industry                                                           0 non-null      object \n",
      " 88  Number of Sessions                                                             0 non-null      float64\n",
      " 89  WFM                                                                            0 non-null      object \n",
      " 90  Country/Region                                                                 0 non-null      object \n",
      " 91  Industry                                                                       0 non-null      object \n",
      " 92  Create Date_y                                                                  0 non-null      object \n",
      " 93  Company name                                                                   0 non-null      object \n",
      " 94  Last Modified Date_y                                                           0 non-null      object \n",
      " 95  BPO Program Tier                                                               0 non-null      object \n",
      "dtypes: bool(3), float64(31), int64(1), object(61)\n",
      "memory usage: 432.7+ KB\n"
     ]
    }
   ],
   "source": [
    "deals_companies.info()"
   ]
  },
  {
   "cell_type": "code",
   "execution_count": 23,
   "metadata": {},
   "outputs": [],
   "source": [
    "# We merged on the \"Associated Company\" column.\n",
    "# In specific, the deals will be the main column so that we left join on deals\n",
    "deals_companies = pd.merge(\n",
    "    deals,\n",
    "    companies,\n",
    "    on=\"Associated Company\",  \n",
    "    how=\"left\"\n",
    ")"
   ]
  },
  {
   "cell_type": "code",
   "execution_count": 24,
   "metadata": {},
   "outputs": [],
   "source": [
    "merged_df = pd.merge(\n",
    "    deals_companies,\n",
    "    tickets,\n",
    "    on=\"Associated Company\",  \n",
    "    how=\"left\"\n",
    ")"
   ]
  },
  {
   "cell_type": "code",
   "execution_count": 25,
   "metadata": {},
   "outputs": [
    {
     "name": "stdout",
     "output_type": "stream",
     "text": [
      "<class 'pandas.core.frame.DataFrame'>\n",
      "RangeIndex: 416335 entries, 0 to 416334\n",
      "Columns: 140 entries, Weighted amount to Was the sym QAed?\n",
      "dtypes: bool(3), float64(38), int64(1), object(98)\n",
      "memory usage: 436.4+ MB\n"
     ]
    }
   ],
   "source": [
    "merged_df.info()"
   ]
  }
 ],
 "metadata": {
  "kernelspec": {
   "display_name": "Python 3",
   "language": "python",
   "name": "python3"
  },
  "language_info": {
   "codemirror_mode": {
    "name": "ipython",
    "version": 3
   },
   "file_extension": ".py",
   "mimetype": "text/x-python",
   "name": "python",
   "nbconvert_exporter": "python",
   "pygments_lexer": "ipython3",
   "version": "3.9.6"
  }
 },
 "nbformat": 4,
 "nbformat_minor": 2
}
